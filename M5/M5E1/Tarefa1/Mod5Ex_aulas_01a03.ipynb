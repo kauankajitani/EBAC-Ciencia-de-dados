{
 "cells": [
  {
   "cell_type": "markdown",
   "metadata": {},
   "source": [
    "# Módulo 5 Tarefa 1\n",
    "## Base de nascidos vivos do DataSUS\n",
    "O DataSUS disponibiliza diversos arquivos de dados com relação a seus segurados, conforme a [lei da transparência de informações públicas](https://www.sisgov.com/transparencia-acesso-informacao/#:~:text=A%20Lei%20da%20Transpar%C3%AAncia%20(LC,em%20um%20site%20na%20internet.). \n",
    "\n",
    "Essas informações podem ser obtidas pela internet [aqui](http://www2.datasus.gov.br/DATASUS/index.php?area=0901&item=1). Como o processo de obtenção desses arquivos foge um pouco do nosso escopo, deixamos o arquivo SINASC_RO_2019.csv` já como vai ser encontrado no DataSUS. O dicionário de dados está no arquivo `estrutura_sinasc_para_CD.pdf` (o nome do arquivo tal qual no portal do DataSUS).\n",
    "\n",
    "### Nosso objetivo\n",
    "Queremos deixar uma base organizada para podermos estudar a relação entre partos com risco para o bebê e algumas condições como tempo de parto, consultas de pré-natal etc.\n",
    "\n",
    "#### Preparação da base\n",
    "1. Carregue a base 'SINASC_RO_2019.csv'. Conte o número de registros e o número de registros não duplicados da base. Dica: você aprendeu um método que remove duplicados, encadeie este método com um outro método que conta o número de linhas. **Há linhas duplicadas?**  \n",
    "\n",
    "2. Conte o número de valores *missing* por variável.  \n",
    "\n",
    "3. Ok, no item anterior você deve ter achado pouco prático ler a informação de tantas variáveis, muitas delas nem devem ser interesantes. Então crie uma seleção dessa base somente com as colunas que interessam. São elas:\n",
    "` \n",
    "['LOCNASC', 'IDADEMAE', 'ESTCIVMAE', 'ESCMAE', 'QTDFILVIVO', \n",
    "    'GESTACAO', 'GRAVIDEZ', 'CONSULTAS', 'APGAR5'] \n",
    "`\n",
    "Refaça a contagem de valores *missings*.  \n",
    "\n",
    "4. Apgar é uma *nota* que o pediatra dá ao bebê quando nasce de acordo com algumas características associadas principalmente à respiração. Apgar 1 e Apgar 5 são as notas 1 e 5 minutos do nascimento. Apgar5 será a nossa variável de interesse principal. Então remova todos os registros com Apgar5 não preenchido. Para esta seleção, conte novamente o número de linhas e o número de *missings*.  \n",
    "\n",
    "5. observe que as variáveis `['ESTCIVMAE', 'CONSULTAS']` possuem o código `9`, que significa *ignorado*. Vamos assumir que o não preenchido é o mesmo que o código `9`.<br>\n",
    "6. Substitua os valores faltantes da quantitativa (`QTDFILVIVO`) por zero.  \n",
    "7. Das restantes, decida que valore te parece mais adequado (um 'não preenchido' ou um valor 'mais provável' como no item anterior) e preencha. Justifique. Lembre-se de que tratamento de dados é trabalho do cientista, e que estamos tomando decisões a todo o momento - não há necessariamente certo e errado aqui.  \n",
    "8. O Apgar possui uma classificação indicando se o bebê passou por asfixia:\n",
    "- Entre 8 e 10 está em uma faixa 'normal'. \n",
    "- Entre 6 e 7, significa que o recém-nascido passou por 'asfixia leve'. \n",
    "- Entre 4 e 5 significa 'asfixia moderada'.\n",
    "- Entre 0 e 3 significa 'asfixia severa'.  \n",
    "\n",
    "Crie uma categorização dessa variável com essa codificação e calcule as frequências dessa categorização.  \n",
    "<br>\n",
    "9. Renomeie as variáveis para que fiquem no *snake case*, ou seja, em letras minúsculas, com um *underscore* entre as palávras. Dica: repare que se você não quiser criar um *dataframe* novo, você vai precisar usar a opção `inplace = True`."
   ]
  },
  {
   "cell_type": "code",
   "execution_count": 1,
   "metadata": {},
   "outputs": [
    {
     "name": "stdout",
     "output_type": "stream",
     "text": [
      "(27028, 69)\n"
     ]
    },
    {
     "data": {
      "text/plain": [
       "(27028, 69)"
      ]
     },
     "execution_count": 1,
     "metadata": {},
     "output_type": "execute_result"
    }
   ],
   "source": [
    "import pandas as pd\n",
    "import requests\n",
    "\n",
    "# 1) seu código aqui\n",
    "df = pd.read_csv('SINASC_RO_2019.csv')\n",
    "print(df.shape)\n",
    "df.drop_duplicates().shape\n",
    "# Não há duplicados"
   ]
  },
  {
   "cell_type": "code",
   "execution_count": 2,
   "metadata": {},
   "outputs": [
    {
     "data": {
      "text/plain": [
       "munResArea        1\n",
       "munResLon         1\n",
       "munResLat         1\n",
       "munResAlt         1\n",
       "SEXO              4\n",
       "TPDOCRESP        14\n",
       "HORANASC         21\n",
       "DTNASCMAE        40\n",
       "PARTO            49\n",
       "DTDECLARAC       52\n",
       "TPNASCASSI       61\n",
       "TPFUNCRESP       67\n",
       "GRAVIDEZ         79\n",
       "APGAR1           96\n",
       "APGAR5          103\n",
       "CODESTAB        115\n",
       "ESCMAE2010      249\n",
       "ESCMAEAGR1      249\n",
       "TPAPRESENT      265\n",
       "NATURALMAE      298\n",
       "CODMUNNATU      298\n",
       "CODUFNATU       298\n",
       "ESCMAE          312\n",
       "ESTCIVMAE       317\n",
       "IDANOMAL        591\n",
       "RACACOR         647\n",
       "RACACORMAE      661\n",
       "STCESPARTO      747\n",
       "CONSPRENAT      930\n",
       "STTRABPART      947\n",
       "QTDGESTANT     1212\n",
       "GESTACAO       1232\n",
       "SEMAGESTAC     1238\n",
       "TPMETESTIM     1238\n",
       "QTDFILVIVO     1573\n",
       "QTDPARTCES     1791\n",
       "QTDPARTNOR     1879\n",
       "QTDFILMORT     2098\n",
       "MESPRENAT      2867\n",
       "CODOCUPMAE     2907\n",
       "DTULTMENST    10072\n",
       "SERIESCMAE    12710\n",
       "IDADEPAI      19421\n",
       "CODANOMAL     26814\n",
       "DTRECORIGA    27028\n",
       "dtype: int64"
      ]
     },
     "execution_count": 2,
     "metadata": {},
     "output_type": "execute_result"
    }
   ],
   "source": [
    "# 2) seu código aqui\n",
    "colunas_com_soma_maior_que_0 = df.loc[:, df.isna().sum() > 0]\n",
    "colunas_com_soma_maior_que_0.columns\n",
    "colunas_com_soma_maior_que_0.isna().sum().sort_values()"
   ]
  },
  {
   "cell_type": "code",
   "execution_count": 3,
   "metadata": {},
   "outputs": [
    {
     "data": {
      "text/plain": [
       "LOCNASC          0\n",
       "IDADEMAE         0\n",
       "CONSULTAS        0\n",
       "GRAVIDEZ        79\n",
       "APGAR5         103\n",
       "ESCMAE         312\n",
       "ESTCIVMAE      317\n",
       "GESTACAO      1232\n",
       "QTDFILVIVO    1573\n",
       "dtype: int64"
      ]
     },
     "execution_count": 3,
     "metadata": {},
     "output_type": "execute_result"
    }
   ],
   "source": [
    "# 3) seu código aqui\n",
    "dados_filtrados = df[['LOCNASC', 'IDADEMAE', 'ESTCIVMAE', 'ESCMAE', 'QTDFILVIVO',\n",
    "                  'GESTACAO', 'GRAVIDEZ', 'CONSULTAS', 'APGAR5']]\n",
    "dados_filtrados\n",
    "dados_filtrados.isna().sum().sort_values()"
   ]
  },
  {
   "cell_type": "code",
   "execution_count": 4,
   "metadata": {},
   "outputs": [
    {
     "data": {
      "text/plain": [
       "0        10.0\n",
       "1         9.0\n",
       "2        10.0\n",
       "3        10.0\n",
       "4        10.0\n",
       "         ... \n",
       "27023     9.0\n",
       "27024     9.0\n",
       "27025    10.0\n",
       "27026     9.0\n",
       "27027     8.0\n",
       "Name: APGAR5, Length: 26925, dtype: float64"
      ]
     },
     "execution_count": 4,
     "metadata": {},
     "output_type": "execute_result"
    }
   ],
   "source": [
    "# 4) seu código aqui \n",
    "df['APGAR5'].dropna()"
   ]
  },
  {
   "cell_type": "code",
   "execution_count": 5,
   "metadata": {},
   "outputs": [],
   "source": [
    "# 4) seu código aqui \n",
    "df = df.dropna(subset = 'APGAR5')"
   ]
  },
  {
   "cell_type": "code",
   "execution_count": 6,
   "metadata": {},
   "outputs": [
    {
     "data": {
      "text/plain": [
       "CONSULTAS\n",
       "1      966\n",
       "2     1354\n",
       "3     5925\n",
       "4    18486\n",
       "Name: count, dtype: int64"
      ]
     },
     "execution_count": 6,
     "metadata": {},
     "output_type": "execute_result"
    }
   ],
   "source": [
    "# 5) seu código aqui\n",
    "df_sem_nove = df.loc[(df['CONSULTAS'] != 9) & (df['ESTCIVMAE'] != 9)]\n",
    "df_sem_nove['CONSULTAS'].value_counts().sort_index()"
   ]
  },
  {
   "cell_type": "code",
   "execution_count": 7,
   "metadata": {},
   "outputs": [],
   "source": [
    "# 6) seu código aqui\n",
    "df['QTDFILVIVO'].fillna(0,inplace= True)"
   ]
  },
  {
   "cell_type": "code",
   "execution_count": 8,
   "metadata": {},
   "outputs": [
    {
     "data": {
      "text/plain": [
       "LOCNASC          0\n",
       "IDADEMAE         0\n",
       "QTDFILVIVO       0\n",
       "CONSULTAS        0\n",
       "APGAR5           0\n",
       "GRAVIDEZ        76\n",
       "ESCMAE         310\n",
       "ESTCIVMAE      315\n",
       "GESTACAO      1216\n",
       "dtype: int64"
      ]
     },
     "execution_count": 8,
     "metadata": {},
     "output_type": "execute_result"
    }
   ],
   "source": [
    "# 7) seu código aqui\n",
    "dados_filtrados = df[['LOCNASC', 'IDADEMAE', 'ESTCIVMAE', 'ESCMAE', 'QTDFILVIVO',\n",
    "                  'GESTACAO', 'GRAVIDEZ', 'CONSULTAS', 'APGAR5']]\n",
    "dados_filtrados\n",
    "dados_filtrados.isna().sum().sort_values()"
   ]
  },
  {
   "cell_type": "code",
   "execution_count": 9,
   "metadata": {},
   "outputs": [
    {
     "data": {
      "text/plain": [
       "569"
      ]
     },
     "execution_count": 9,
     "metadata": {},
     "output_type": "execute_result"
    }
   ],
   "source": [
    "(df['GRAVIDEZ'] != 'Única').sum()"
   ]
  },
  {
   "cell_type": "code",
   "execution_count": 10,
   "metadata": {},
   "outputs": [
    {
     "data": {
      "text/plain": [
       "0            8 a 11 anos\n",
       "1            8 a 11 anos\n",
       "2            8 a 11 anos\n",
       "3        12 anos ou mais\n",
       "4            8 a 11 anos\n",
       "              ...       \n",
       "27023    12 anos ou mais\n",
       "27024        8 a 11 anos\n",
       "27025        8 a 11 anos\n",
       "27026        8 a 11 anos\n",
       "27027        8 a 11 anos\n",
       "Name: ESCMAE, Length: 26925, dtype: object"
      ]
     },
     "execution_count": 10,
     "metadata": {},
     "output_type": "execute_result"
    }
   ],
   "source": [
    "df['ESCMAE']"
   ]
  },
  {
   "cell_type": "code",
   "execution_count": 11,
   "metadata": {},
   "outputs": [
    {
     "data": {
      "text/plain": [
       "0        5.0\n",
       "1        2.0\n",
       "2        9.0\n",
       "3        5.0\n",
       "4        2.0\n",
       "        ... \n",
       "27023    2.0\n",
       "27024    1.0\n",
       "27025    2.0\n",
       "27026    2.0\n",
       "27027    5.0\n",
       "Name: ESTCIVMAE, Length: 26925, dtype: float64"
      ]
     },
     "execution_count": 11,
     "metadata": {},
     "output_type": "execute_result"
    }
   ],
   "source": [
    "df['ESTCIVMAE']"
   ]
  },
  {
   "cell_type": "code",
   "execution_count": 12,
   "metadata": {},
   "outputs": [
    {
     "data": {
      "text/plain": [
       "0        37 a 41 semanas\n",
       "1        37 a 41 semanas\n",
       "2        37 a 41 semanas\n",
       "3        37 a 41 semanas\n",
       "4        37 a 41 semanas\n",
       "              ...       \n",
       "27023    32 a 36 semanas\n",
       "27024    37 a 41 semanas\n",
       "27025    37 a 41 semanas\n",
       "27026    32 a 36 semanas\n",
       "27027    37 a 41 semanas\n",
       "Name: GESTACAO, Length: 26925, dtype: object"
      ]
     },
     "execution_count": 12,
     "metadata": {},
     "output_type": "execute_result"
    }
   ],
   "source": [
    "df['GESTACAO']"
   ]
  },
  {
   "cell_type": "code",
   "execution_count": 13,
   "metadata": {},
   "outputs": [],
   "source": [
    "# 7) seu código aqui\n",
    "mode = df['GRAVIDEZ'].mode\n",
    "mediana = df['ESTCIVMAE'].median()\n",
    "\n",
    "df['GRAVIDEZ'].fillna(mode,inplace = True)\n",
    "df['ESCMAE'].ffill(inplace = True)\n",
    "df['ESTCIVMAE'].fillna(mediana,inplace = True)\n",
    "df['GESTACAO'].ffill(inplace = True)"
   ]
  },
  {
   "cell_type": "code",
   "execution_count": 14,
   "metadata": {},
   "outputs": [],
   "source": [
    "''# 8) seu código aqui\n",
    "df.loc[df['APGAR5'] >= 8, 'apgar5_novo'] = 'normal'\n",
    "df.loc[(df['APGAR5'] >=6) & (df['APGAR5'] <= 7),\n",
    "           'apgar5_novo'] = 'asfixia leve'\n",
    "df.loc[(df['APGAR5'] >= 4) & (df['APGAR5'] <= 5),\n",
    "           'apgar5_novo'] = 'asfixia moderada'\n",
    "df.loc[(df['APGAR5'] <= 3), 'apgar5_novo'] = 'asfixia severa'"
   ]
  },
  {
   "cell_type": "code",
   "execution_count": 15,
   "metadata": {},
   "outputs": [
    {
     "data": {
      "text/plain": [
       "apgar5_novo\n",
       "normal              26463\n",
       "asfixia leve          320\n",
       "asfixia severa         74\n",
       "asfixia moderada       68\n",
       "Name: count, dtype: int64"
      ]
     },
     "execution_count": 15,
     "metadata": {},
     "output_type": "execute_result"
    }
   ],
   "source": [
    "df['apgar5_novo'].value_counts()"
   ]
  },
  {
   "cell_type": "code",
   "execution_count": 16,
   "metadata": {},
   "outputs": [],
   "source": [
    "# 9) seu código aqui\n",
    "df['apgar5_novo'] = df['apgar5_novo'].str.replace(' ', '_').str.lower()\n"
   ]
  },
  {
   "cell_type": "code",
   "execution_count": 17,
   "metadata": {},
   "outputs": [
    {
     "data": {
      "text/plain": [
       "apgar5_novo\n",
       "normal              26463\n",
       "asfixia_leve          320\n",
       "asfixia_severa         74\n",
       "asfixia_moderada       68\n",
       "Name: count, dtype: int64"
      ]
     },
     "execution_count": 17,
     "metadata": {},
     "output_type": "execute_result"
    }
   ],
   "source": [
    "df['apgar5_novo'].value_counts()"
   ]
  },
  {
   "cell_type": "code",
   "execution_count": 18,
   "metadata": {},
   "outputs": [],
   "source": [
    "df.to_csv('SINASC_RO_2019_.csv')"
   ]
  }
 ],
 "metadata": {
  "kernelspec": {
   "display_name": "Python 3 (ipykernel)",
   "language": "python",
   "name": "python3"
  },
  "language_info": {
   "codemirror_mode": {
    "name": "ipython",
    "version": 3
   },
   "file_extension": ".py",
   "mimetype": "text/x-python",
   "name": "python",
   "nbconvert_exporter": "python",
   "pygments_lexer": "ipython3",
   "version": "3.11.7"
  }
 },
 "nbformat": 4,
 "nbformat_minor": 4
}
